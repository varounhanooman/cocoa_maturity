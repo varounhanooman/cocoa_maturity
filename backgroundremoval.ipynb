{
 "cells": [
  {
   "cell_type": "code",
   "execution_count": null,
   "metadata": {},
   "outputs": [],
   "source": [
    "import numpy as np\n",
    "import cv2\n",
    "image_vec = cv2.imread('test1.jpg', 1)\n",
    "g_blurred = cv2.GaussianBlur(image_vec, (5, 5), 0)"
   ]
  },
  {
   "cell_type": "code",
   "execution_count": null,
   "metadata": {},
   "outputs": [],
   "source": [
    "blurred_float = g_blurred.astype(np.float32) / 255.0\n",
    "edgeDetector = cv2.ximgproc.createStructuredEdgeDetection(\"model.yml\")\n",
    "edges = edgeDetector.detectEdges(blurred_float) * 255.0\n",
    "cv2.imwrite('edge-raw.jpg', edges)"
   ]
  },
  {
   "cell_type": "code",
   "execution_count": null,
   "metadata": {},
   "outputs": [],
   "source": [
    "def SaltPepperNoise(edgeImg):\n",
    "\n",
    "    count = 0\n",
    "    lastMedian = edgeImg\n",
    "    median = cv2.medianBlur(edgeImg, 3)\n",
    "    while not np.array_equal(lastMedian, median):\n",
    "        zeroed = np.invert(np.logical_and(median, edgeImg))\n",
    "        edgeImg[zeroed] = 0\n",
    "        count = count + 1\n",
    "        if count > 70:\n",
    "            break\n",
    "        lastMedian = median\n",
    "        median = cv2.medianBlur(edgeImg, 3)\n",
    "edges_ = np.asarray(edges, np.uint8)\n",
    "SaltPepperNoise(edges_)\n",
    "cv2.imwrite('edge.jpg', edges_)\n",
    "#image_display('edge.jpg')"
   ]
  },
  {
   "cell_type": "code",
   "execution_count": null,
   "metadata": {},
   "outputs": [],
   "source": [
    "def findSignificantContour(edgeImg):\n",
    "    contours, hierarchy = cv2.findContours(\n",
    "        edgeImg,\n",
    "        cv2.RETR_TREE,\n",
    "        cv2.CHAIN_APPROX_SIMPLE\n",
    "    )\n",
    "        # Find level 1 contours\n",
    "    level1Meta = []\n",
    "    for contourIndex, tupl in enumerate(hierarchy[0]):\n",
    "        # Filter the ones without parent\n",
    "        if tupl[3] == -1:\n",
    "            tupl = np.insert(tupl.copy(), 0, [contourIndex])\n",
    "            level1Meta.append(tupl)\n",
    "# From among them, find the contours with large surface area.\n",
    "    contoursWithArea = []\n",
    "    for tupl in level1Meta:\n",
    "        contourIndex = tupl[0]\n",
    "        contour = contours[contourIndex]\n",
    "        area = cv2.contourArea(contour)\n",
    "        contoursWithArea.append([contour, area, contourIndex])\n",
    "    contoursWithArea.sort(key=lambda meta: meta[1], reverse=True)\n",
    "    largestContour = contoursWithArea[0][0]\n",
    "    return largestContour\n",
    "contour = findSignificantContour(edges_)\n",
    "# Draw the contour on the original image\n",
    "contourImg = np.copy(image_vec)\n",
    "cv2.drawContours(contourImg, [contour], 0, (0, 255, 0), 2, cv2.LINE_AA, maxLevel=1)\n",
    "cv2.imwrite('contour.jpg', contourImg)\n",
    "#image_display('contour.jpg')"
   ]
  },
  {
   "cell_type": "code",
   "execution_count": null,
   "metadata": {},
   "outputs": [],
   "source": [
    "mask = np.zeros_like(edges_)\n",
    "cv2.fillPoly(mask, [contour], 255)\n",
    "# calculate sure foreground area by dilating the mask\n",
    "mapFg = cv2.erode(mask, np.ones((5, 5), np.uint8), iterations=10)\n",
    "# mark inital mask as \"probably background\"\n",
    "# and mapFg as sure foreground\n",
    "trimap = np.copy(mask)\n",
    "trimap[mask == 0] = cv2.GC_BGD\n",
    "trimap[mask == 255] = cv2.GC_PR_BGD\n",
    "trimap[mapFg == 255] = cv2.GC_FGD\n",
    "# visualize trimap\n",
    "trimap_print = np.copy(trimap)\n",
    "trimap_print[trimap_print == cv2.GC_PR_BGD] = 255\n",
    "trimap_print[trimap_print == cv2.GC_FGD] = 255\n",
    "cv2.imwrite('trimap.png', trimap_print)\n",
    "#image_display('trimap.png')"
   ]
  },
  {
   "cell_type": "code",
   "execution_count": null,
   "metadata": {},
   "outputs": [],
   "source": [
    "mask_test = cv2.imread('trimap.png')/255.0\n",
    "final = (image_vec * mask_test).clip(0, 255).astype(np.uint8)\n",
    "cv2.imwrite('final.png', final)"
   ]
  },
  {
   "cell_type": "code",
   "execution_count": null,
   "metadata": {},
   "outputs": [],
   "source": []
  }
 ],
 "metadata": {
  "kernelspec": {
   "display_name": "Python 3",
   "language": "python",
   "name": "python3"
  },
  "language_info": {
   "codemirror_mode": {
    "name": "ipython",
    "version": 3
   },
   "file_extension": ".py",
   "mimetype": "text/x-python",
   "name": "python",
   "nbconvert_exporter": "python",
   "pygments_lexer": "ipython3",
   "version": "3.8.5"
  }
 },
 "nbformat": 4,
 "nbformat_minor": 4
}
