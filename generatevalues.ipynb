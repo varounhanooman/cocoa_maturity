{
 "cells": [
  {
   "cell_type": "code",
   "execution_count": 1,
   "metadata": {},
   "outputs": [],
   "source": [
    "import cv2\n",
    "import numpy as np\n",
    "from matplotlib import pyplot as plt\n",
    "from scipy.stats import norm"
   ]
  },
  {
   "cell_type": "code",
   "execution_count": 2,
   "metadata": {},
   "outputs": [],
   "source": [
    "img = cv2.imread('final.png',cv2.IMREAD_UNCHANGED)"
   ]
  },
  {
   "cell_type": "code",
   "execution_count": 3,
   "metadata": {},
   "outputs": [
    {
     "name": "stdout",
     "output_type": "stream",
     "text": [
      "(577, 433, 3)\n"
     ]
    }
   ],
   "source": [
    "print(img.shape)"
   ]
  },
  {
   "cell_type": "code",
   "execution_count": 18,
   "metadata": {},
   "outputs": [],
   "source": [
    "#extract red channel\n",
    "red_channel = np.array(img[:,:,2])\n",
    "red_channel = red_channel.flatten()\n",
    "red_channel = red_channel[red_channel!=0]\n",
    "rmu, rstd = norm.fit(red_channel)\n",
    "\n",
    "#extract green channel\n",
    "green_channel = np.array(img[:,:,1])\n",
    "green_channel = green_channel.flatten()\n",
    "green_channel = green_channel[green_channel!=0]\n",
    "gmu, gstd = norm.fit(green_channel)\n",
    "\n",
    "#extract blue channel\n",
    "blue_channel = np.array(img[:,:,0])\n",
    "blue_channel = blue_channel.flatten()\n",
    "blue_channel = blue_channel[blue_channel!=0]\n",
    "bmu, bstd = norm.fit(blue_channel)\n"
   ]
  },
  {
   "cell_type": "code",
   "execution_count": 19,
   "metadata": {},
   "outputs": [
    {
     "name": "stdout",
     "output_type": "stream",
     "text": [
      "203.7042190969652\n",
      "123.86485936343449\n",
      "38.265026055671974\n",
      "34.8388327576213\n",
      "25.822315352597073\n",
      "22.284955560685255\n"
     ]
    }
   ],
   "source": [
    "print(rmu)\n",
    "print(gmu)\n",
    "print(bmu)\n",
    "print(rstd)\n",
    "print(gstd)\n",
    "print(bstd)"
   ]
  },
  {
   "cell_type": "code",
   "execution_count": 20,
   "metadata": {},
   "outputs": [
    {
     "name": "stdout",
     "output_type": "stream",
     "text": [
      "[203.7042190969652, 123.86485936343449, 38.265026055671974, 34.8388327576213, 25.822315352597073, 22.284955560685255]\n"
     ]
    }
   ],
   "source": [
    "arr = [rmu, gmu, bmu, rstd, gstd, bstd]\n",
    "print(arr)"
   ]
  },
  {
   "cell_type": "code",
   "execution_count": 21,
   "metadata": {},
   "outputs": [
    {
     "data": {
      "image/png": "[encoded data removed]",
      "text/plain": [
       "<Figure size 432x288 with 1 Axes>"
      ]
     },
     "metadata": {
      "needs_background": "light"
     },
     "output_type": "display_data"
    }
   ],
   "source": [
    "plt.hist(red_channel)\n",
    "plt.show()"
   ]
  },
  {
   "cell_type": "code",
   "execution_count": null,
   "metadata": {},
   "outputs": [],
   "source": []
  }
 ],
 "metadata": {
  "kernelspec": {
   "display_name": "Python 3",
   "language": "python",
   "name": "python3"
  },
  "language_info": {
   "codemirror_mode": {
    "name": "ipython",
    "version": 3
   },
   "file_extension": ".py",
   "mimetype": "text/x-python",
   "name": "python",
   "nbconvert_exporter": "python",
   "pygments_lexer": "ipython3",
   "version": "3.8.5"
  }
 },
 "nbformat": 4,
 "nbformat_minor": 4
}
